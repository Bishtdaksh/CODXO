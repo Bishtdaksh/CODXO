{
 "cells": [
  {
   "cell_type": "code",
   "execution_count": 1,
   "id": "b2594835-fda0-49cf-8ef2-dca8eba239df",
   "metadata": {},
   "outputs": [
    {
     "name": "stdout",
     "output_type": "stream",
     "text": [
      "Requirement already satisfied: nltk in c:\\users\\bisht\\anaconda3\\lib\\site-packages (3.8.1)\n",
      "Collecting textblob\n",
      "  Downloading textblob-0.18.0.post0-py3-none-any.whl.metadata (4.5 kB)\n",
      "Requirement already satisfied: click in c:\\users\\bisht\\anaconda3\\lib\\site-packages (from nltk) (8.1.7)\n",
      "Requirement already satisfied: joblib in c:\\users\\bisht\\anaconda3\\lib\\site-packages (from nltk) (1.4.2)\n",
      "Requirement already satisfied: regex>=2021.8.3 in c:\\users\\bisht\\anaconda3\\lib\\site-packages (from nltk) (2023.10.3)\n",
      "Requirement already satisfied: tqdm in c:\\users\\bisht\\anaconda3\\lib\\site-packages (from nltk) (4.66.4)\n",
      "Requirement already satisfied: colorama in c:\\users\\bisht\\anaconda3\\lib\\site-packages (from click->nltk) (0.4.6)\n",
      "Downloading textblob-0.18.0.post0-py3-none-any.whl (626 kB)\n",
      "   ---------------------------------------- 0.0/626.3 kB ? eta -:--:--\n",
      "   ---------------------------------------- 0.0/626.3 kB ? eta -:--:--\n",
      "   ---------------------------------------- 0.0/626.3 kB ? eta -:--:--\n",
      "    --------------------------------------- 10.2/626.3 kB ? eta -:--:--\n",
      "    --------------------------------------- 10.2/626.3 kB ? eta -:--:--\n",
      "    --------------------------------------- 10.2/626.3 kB ? eta -:--:--\n",
      "    --------------------------------------- 10.2/626.3 kB ? eta -:--:--\n",
      "    --------------------------------------- 10.2/626.3 kB ? eta -:--:--\n",
      "    --------------------------------------- 10.2/626.3 kB ? eta -:--:--\n",
      "    --------------------------------------- 10.2/626.3 kB ? eta -:--:--\n",
      "   -- ------------------------------------- 41.0/626.3 kB 93.4 kB/s eta 0:00:07\n",
      "   ----- --------------------------------- 81.9/626.3 kB 208.4 kB/s eta 0:00:03\n",
      "   ----- --------------------------------- 81.9/626.3 kB 208.4 kB/s eta 0:00:03\n",
      "   ----- --------------------------------- 92.2/626.3 kB 187.0 kB/s eta 0:00:03\n",
      "   ----- --------------------------------- 92.2/626.3 kB 187.0 kB/s eta 0:00:03\n",
      "   ----- --------------------------------- 92.2/626.3 kB 187.0 kB/s eta 0:00:03\n",
      "   ----- --------------------------------- 92.2/626.3 kB 187.0 kB/s eta 0:00:03\n",
      "   ----- --------------------------------- 92.2/626.3 kB 187.0 kB/s eta 0:00:03\n",
      "   ----- --------------------------------- 92.2/626.3 kB 187.0 kB/s eta 0:00:03\n",
      "   ----- --------------------------------- 92.2/626.3 kB 187.0 kB/s eta 0:00:03\n",
      "   ----- --------------------------------- 92.2/626.3 kB 187.0 kB/s eta 0:00:03\n",
      "   ----- --------------------------------- 92.2/626.3 kB 187.0 kB/s eta 0:00:03\n",
      "   ----- --------------------------------- 92.2/626.3 kB 187.0 kB/s eta 0:00:03\n",
      "   -------- ----------------------------- 143.4/626.3 kB 149.4 kB/s eta 0:00:04\n",
      "   --------- ---------------------------- 163.8/626.3 kB 163.8 kB/s eta 0:00:03\n",
      "   --------- ---------------------------- 163.8/626.3 kB 163.8 kB/s eta 0:00:03\n",
      "   ---------- --------------------------- 174.1/626.3 kB 156.5 kB/s eta 0:00:03\n",
      "   ---------- --------------------------- 174.1/626.3 kB 156.5 kB/s eta 0:00:03\n",
      "   ----------- -------------------------- 194.6/626.3 kB 159.3 kB/s eta 0:00:03\n",
      "   ----------- -------------------------- 194.6/626.3 kB 159.3 kB/s eta 0:00:03\n",
      "   ------------ ------------------------- 204.8/626.3 kB 155.6 kB/s eta 0:00:03\n",
      "   ------------- ------------------------ 225.3/626.3 kB 165.8 kB/s eta 0:00:03\n",
      "   -------------- ----------------------- 245.8/626.3 kB 177.2 kB/s eta 0:00:03\n",
      "   ---------------- --------------------- 276.5/626.3 kB 191.4 kB/s eta 0:00:02\n",
      "   ---------------- --------------------- 276.5/626.3 kB 191.4 kB/s eta 0:00:02\n",
      "   ----------------- -------------------- 286.7/626.3 kB 184.3 kB/s eta 0:00:02\n",
      "   ------------------ ------------------- 307.2/626.3 kB 198.0 kB/s eta 0:00:02\n",
      "   ------------------- ------------------ 327.7/626.3 kB 203.1 kB/s eta 0:00:02\n",
      "   -------------------- ----------------- 337.9/626.3 kB 203.5 kB/s eta 0:00:02\n",
      "   ---------------------- --------------- 368.6/626.3 kB 212.3 kB/s eta 0:00:02\n",
      "   ------------------------ ------------- 409.6/626.3 kB 232.3 kB/s eta 0:00:01\n",
      "   -------------------------- ----------- 440.3/626.3 kB 243.5 kB/s eta 0:00:01\n",
      "   ----------------------------- -------- 491.5/626.3 kB 263.1 kB/s eta 0:00:01\n",
      "   ------------------------------- ------ 512.0/626.3 kB 267.6 kB/s eta 0:00:01\n",
      "   --------------------------------- ---- 553.0/626.3 kB 284.6 kB/s eta 0:00:01\n",
      "   --------------------------------- ---- 553.0/626.3 kB 284.6 kB/s eta 0:00:01\n",
      "   -------------------------------------- 626.3/626.3 kB 308.0 kB/s eta 0:00:00\n",
      "Installing collected packages: textblob\n",
      "Successfully installed textblob-0.18.0.post0\n"
     ]
    }
   ],
   "source": [
    "\n",
    "!pip install nltk textblob"
   ]
  },
  {
   "cell_type": "code",
   "execution_count": 3,
   "id": "6fec2d0e-6ada-42a3-ac04-3c0dc7b13046",
   "metadata": {},
   "outputs": [
    {
     "name": "stderr",
     "output_type": "stream",
     "text": [
      "[nltk_data] Downloading package punkt to\n",
      "[nltk_data]     C:\\Users\\bisht\\AppData\\Roaming\\nltk_data...\n",
      "[nltk_data]   Unzipping tokenizers\\punkt.zip.\n",
      "[nltk_data] Downloading package averaged_perceptron_tagger to\n",
      "[nltk_data]     C:\\Users\\bisht\\AppData\\Roaming\\nltk_data...\n",
      "[nltk_data]   Unzipping taggers\\averaged_perceptron_tagger.zip.\n",
      "[nltk_data] Downloading package brown to\n",
      "[nltk_data]     C:\\Users\\bisht\\AppData\\Roaming\\nltk_data...\n",
      "[nltk_data]   Unzipping corpora\\brown.zip.\n",
      "[nltk_data] Downloading package words to\n",
      "[nltk_data]     C:\\Users\\bisht\\AppData\\Roaming\\nltk_data...\n",
      "[nltk_data]   Unzipping corpora\\words.zip.\n"
     ]
    }
   ],
   "source": [
    "import nltk\n",
    "nltk.download('punkt')\n",
    "nltk.download('averaged_perceptron_tagger')\n",
    "nltk.download('brown')\n",
    "nltk.download('words')\n",
    "from textblob import TextBlob"
   ]
  },
  {
   "cell_type": "code",
   "execution_count": 7,
   "id": "6ccfa4c2-de66-482b-b087-2e2613d62c34",
   "metadata": {},
   "outputs": [
    {
     "name": "stdout",
     "output_type": "stream",
     "text": [
      "The boy is very tall.\n"
     ]
    }
   ],
   "source": [
    "def autocorrect(text):\n",
    "    blob = TextBlob(text)\n",
    "    return str(blob.correct())\n",
    "\n",
    "text = \"Wht boy is very tall.\"\n",
    "corrected_text = autocorrect(text)\n",
    "print(corrected_text)\n",
    "     "
   ]
  },
  {
   "cell_type": "code",
   "execution_count": null,
   "id": "c5265ebe-8999-45c7-ad5b-e5509e0d693c",
   "metadata": {},
   "outputs": [],
   "source": []
  }
 ],
 "metadata": {
  "kernelspec": {
   "display_name": "Python 3 (ipykernel)",
   "language": "python",
   "name": "python3"
  },
  "language_info": {
   "codemirror_mode": {
    "name": "ipython",
    "version": 3
   },
   "file_extension": ".py",
   "mimetype": "text/x-python",
   "name": "python",
   "nbconvert_exporter": "python",
   "pygments_lexer": "ipython3",
   "version": "3.12.4"
  }
 },
 "nbformat": 4,
 "nbformat_minor": 5
}
